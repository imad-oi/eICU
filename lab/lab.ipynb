{
 "cells": [
  {
   "cell_type": "code",
   "execution_count": 1,
   "metadata": {},
   "outputs": [],
   "source": [
    "import pandas as pd\n",
    "\n",
    "# Charger les données\n",
    "url = \"https://physionet.org/files/eicu-crd-demo/2.0.1/\"\n",
    "lab_data = pd.read_csv(url + \"lab.csv.gz\")"
   ]
  },
  {
   "cell_type": "code",
   "execution_count": 3,
   "metadata": {},
   "outputs": [
    {
     "data": {
      "text/html": [
       "<div>\n",
       "<style scoped>\n",
       "    .dataframe tbody tr th:only-of-type {\n",
       "        vertical-align: middle;\n",
       "    }\n",
       "\n",
       "    .dataframe tbody tr th {\n",
       "        vertical-align: top;\n",
       "    }\n",
       "\n",
       "    .dataframe thead th {\n",
       "        text-align: right;\n",
       "    }\n",
       "</style>\n",
       "<table border=\"1\" class=\"dataframe\">\n",
       "  <thead>\n",
       "    <tr style=\"text-align: right;\">\n",
       "      <th></th>\n",
       "      <th>labid</th>\n",
       "      <th>patientunitstayid</th>\n",
       "      <th>labresultoffset</th>\n",
       "      <th>labtypeid</th>\n",
       "      <th>labname</th>\n",
       "      <th>labresult</th>\n",
       "      <th>labresulttext</th>\n",
       "      <th>labmeasurenamesystem</th>\n",
       "      <th>labmeasurenameinterface</th>\n",
       "      <th>labresultrevisedoffset</th>\n",
       "    </tr>\n",
       "  </thead>\n",
       "  <tbody>\n",
       "    <tr>\n",
       "      <th>0</th>\n",
       "      <td>437880563</td>\n",
       "      <td>1754323</td>\n",
       "      <td>-647</td>\n",
       "      <td>3</td>\n",
       "      <td>Hct</td>\n",
       "      <td>38.30</td>\n",
       "      <td>38.3</td>\n",
       "      <td>%</td>\n",
       "      <td>%</td>\n",
       "      <td>-631</td>\n",
       "    </tr>\n",
       "    <tr>\n",
       "      <th>1</th>\n",
       "      <td>437880572</td>\n",
       "      <td>1754323</td>\n",
       "      <td>-647</td>\n",
       "      <td>3</td>\n",
       "      <td>platelets x 1000</td>\n",
       "      <td>181.00</td>\n",
       "      <td>181</td>\n",
       "      <td>K/mcL</td>\n",
       "      <td>k/mm cu</td>\n",
       "      <td>-631</td>\n",
       "    </tr>\n",
       "    <tr>\n",
       "      <th>2</th>\n",
       "      <td>437880560</td>\n",
       "      <td>1754323</td>\n",
       "      <td>-647</td>\n",
       "      <td>3</td>\n",
       "      <td>RBC</td>\n",
       "      <td>4.86</td>\n",
       "      <td>4.86</td>\n",
       "      <td>M/mcL</td>\n",
       "      <td>m/mm cu</td>\n",
       "      <td>-631</td>\n",
       "    </tr>\n",
       "    <tr>\n",
       "      <th>3</th>\n",
       "      <td>437880570</td>\n",
       "      <td>1754323</td>\n",
       "      <td>-647</td>\n",
       "      <td>3</td>\n",
       "      <td>-monos</td>\n",
       "      <td>8.70</td>\n",
       "      <td>8.7</td>\n",
       "      <td>%</td>\n",
       "      <td>%</td>\n",
       "      <td>-631</td>\n",
       "    </tr>\n",
       "    <tr>\n",
       "      <th>4</th>\n",
       "      <td>437880571</td>\n",
       "      <td>1754323</td>\n",
       "      <td>-647</td>\n",
       "      <td>3</td>\n",
       "      <td>MCHC</td>\n",
       "      <td>30.40</td>\n",
       "      <td>30.4</td>\n",
       "      <td>g/dL</td>\n",
       "      <td>%</td>\n",
       "      <td>-631</td>\n",
       "    </tr>\n",
       "  </tbody>\n",
       "</table>\n",
       "</div>"
      ],
      "text/plain": [
       "       labid  patientunitstayid  labresultoffset  labtypeid           labname  \\\n",
       "0  437880563            1754323             -647          3               Hct   \n",
       "1  437880572            1754323             -647          3  platelets x 1000   \n",
       "2  437880560            1754323             -647          3               RBC   \n",
       "3  437880570            1754323             -647          3            -monos   \n",
       "4  437880571            1754323             -647          3              MCHC   \n",
       "\n",
       "   labresult labresulttext labmeasurenamesystem labmeasurenameinterface  \\\n",
       "0      38.30          38.3                    %                       %   \n",
       "1     181.00           181                K/mcL                 k/mm cu   \n",
       "2       4.86          4.86                M/mcL                 m/mm cu   \n",
       "3       8.70           8.7                    %                       %   \n",
       "4      30.40          30.4                 g/dL                       %   \n",
       "\n",
       "   labresultrevisedoffset  \n",
       "0                    -631  \n",
       "1                    -631  \n",
       "2                    -631  \n",
       "3                    -631  \n",
       "4                    -631  "
      ]
     },
     "execution_count": 3,
     "metadata": {},
     "output_type": "execute_result"
    }
   ],
   "source": [
    "# Afficher les 5 premières lignes\n",
    "lab_data.head()"
   ]
  },
  {
   "cell_type": "code",
   "execution_count": 4,
   "metadata": {},
   "outputs": [],
   "source": [
    "# 2. Supprimez les colonnes qui ne sont pas utiles.\n",
    "colonnes_inutiles = [\"labid\", \"patientunitstayid\", \"labresultoffset\", \"labtypeid\"]\n",
    "lab_data = lab_data.drop(columns=colonnes_inutiles)\n"
   ]
  },
  {
   "cell_type": "code",
   "execution_count": 5,
   "metadata": {},
   "outputs": [],
   "source": [
    "# 3. Supprimez les lignes avec des valeurs manquantes.\n",
    "lab_data = lab_data.dropna()\n"
   ]
  },
  {
   "cell_type": "code",
   "execution_count": 6,
   "metadata": {},
   "outputs": [
    {
     "data": {
      "text/html": [
       "<div>\n",
       "<style scoped>\n",
       "    .dataframe tbody tr th:only-of-type {\n",
       "        vertical-align: middle;\n",
       "    }\n",
       "\n",
       "    .dataframe tbody tr th {\n",
       "        vertical-align: top;\n",
       "    }\n",
       "\n",
       "    .dataframe thead th {\n",
       "        text-align: right;\n",
       "    }\n",
       "</style>\n",
       "<table border=\"1\" class=\"dataframe\">\n",
       "  <thead>\n",
       "    <tr style=\"text-align: right;\">\n",
       "      <th></th>\n",
       "      <th>labname</th>\n",
       "      <th>labresult</th>\n",
       "      <th>labresulttext</th>\n",
       "      <th>labmeasurenamesystem</th>\n",
       "      <th>labmeasurenameinterface</th>\n",
       "      <th>labresultrevisedoffset</th>\n",
       "    </tr>\n",
       "  </thead>\n",
       "  <tbody>\n",
       "    <tr>\n",
       "      <th>0</th>\n",
       "      <td>Hct</td>\n",
       "      <td>38.30</td>\n",
       "      <td>38.3</td>\n",
       "      <td>%</td>\n",
       "      <td>%</td>\n",
       "      <td>-631</td>\n",
       "    </tr>\n",
       "    <tr>\n",
       "      <th>1</th>\n",
       "      <td>platelets x 1000</td>\n",
       "      <td>181.00</td>\n",
       "      <td>181</td>\n",
       "      <td>K/mcL</td>\n",
       "      <td>k/mm cu</td>\n",
       "      <td>-631</td>\n",
       "    </tr>\n",
       "    <tr>\n",
       "      <th>2</th>\n",
       "      <td>RBC</td>\n",
       "      <td>4.86</td>\n",
       "      <td>4.86</td>\n",
       "      <td>M/mcL</td>\n",
       "      <td>m/mm cu</td>\n",
       "      <td>-631</td>\n",
       "    </tr>\n",
       "    <tr>\n",
       "      <th>3</th>\n",
       "      <td>-monos</td>\n",
       "      <td>8.70</td>\n",
       "      <td>8.7</td>\n",
       "      <td>%</td>\n",
       "      <td>%</td>\n",
       "      <td>-631</td>\n",
       "    </tr>\n",
       "    <tr>\n",
       "      <th>4</th>\n",
       "      <td>MCHC</td>\n",
       "      <td>30.40</td>\n",
       "      <td>30.4</td>\n",
       "      <td>g/dL</td>\n",
       "      <td>%</td>\n",
       "      <td>-631</td>\n",
       "    </tr>\n",
       "  </tbody>\n",
       "</table>\n",
       "</div>"
      ],
      "text/plain": [
       "            labname  labresult labresulttext labmeasurenamesystem  \\\n",
       "0               Hct      38.30          38.3                    %   \n",
       "1  platelets x 1000     181.00           181                K/mcL   \n",
       "2               RBC       4.86          4.86                M/mcL   \n",
       "3            -monos       8.70           8.7                    %   \n",
       "4              MCHC      30.40          30.4                 g/dL   \n",
       "\n",
       "  labmeasurenameinterface  labresultrevisedoffset  \n",
       "0                       %                    -631  \n",
       "1                 k/mm cu                    -631  \n",
       "2                 m/mm cu                    -631  \n",
       "3                       %                    -631  \n",
       "4                       %                    -631  "
      ]
     },
     "execution_count": 6,
     "metadata": {},
     "output_type": "execute_result"
    }
   ],
   "source": [
    "lab_data.head()"
   ]
  },
  {
   "cell_type": "code",
   "execution_count": 9,
   "metadata": {},
   "outputs": [
    {
     "name": "stderr",
     "output_type": "stream",
     "text": [
      "C:\\Users\\Lenovo\\AppData\\Local\\Temp\\ipykernel_18132\\2646577006.py:10: FutureWarning: Series.interpolate with method=pad is deprecated and will raise in a future version. Use obj.ffill() or obj.bfill() instead.\n",
      "  lab_data[col] = lab_data[col].interpolate(method=\"pad\")\n"
     ]
    }
   ],
   "source": [
    "# 4. Prenez soin des données manquantes.\n",
    "colonnes_to_fill = [\"labresult\"]\n",
    "\n",
    "for col in colonnes_to_fill:\n",
    "    lab_data[col] = lab_data[col].fillna(\"missing\")\n",
    "\n",
    "colonnes_to_interpolate = [\"labresult\", \"labresulttext\"]\n",
    "\n",
    "for col in colonnes_to_interpolate:\n",
    "    lab_data[col] = lab_data[col].interpolate(method=\"pad\")"
   ]
  },
  {
   "cell_type": "code",
   "execution_count": 10,
   "metadata": {},
   "outputs": [
    {
     "data": {
      "text/plain": [
       "array([['Hct', 38.3, '38.3', '%', '%', -631],\n",
       "       ['platelets x 1000', 181.0, '181', 'K/mcL', 'k/mm cu', -631],\n",
       "       ['RBC', 4.86, '4.86', 'M/mcL', 'm/mm cu', -631],\n",
       "       ...,\n",
       "       ['MCV', 92.0, '92', 'fL', 'fL', 37],\n",
       "       ['bedside glucose', 119.0, '119', 'mg/dL', 'mg/dL', 236],\n",
       "       ['creatinine', 1.02, '1.02', 'mg/dL', 'mg/dL', 37]], dtype=object)"
      ]
     },
     "execution_count": 10,
     "metadata": {},
     "output_type": "execute_result"
    }
   ],
   "source": [
    "# 5. Convertissez le bloc de données en NumPy\n",
    "lab_data.to_numpy()"
   ]
  },
  {
   "cell_type": "code",
   "execution_count": null,
   "metadata": {},
   "outputs": [],
   "source": []
  }
 ],
 "metadata": {
  "kernelspec": {
   "display_name": "Python 3",
   "language": "python",
   "name": "python3"
  },
  "language_info": {
   "codemirror_mode": {
    "name": "ipython",
    "version": 3
   },
   "file_extension": ".py",
   "mimetype": "text/x-python",
   "name": "python",
   "nbconvert_exporter": "python",
   "pygments_lexer": "ipython3",
   "version": "3.12.0"
  }
 },
 "nbformat": 4,
 "nbformat_minor": 2
}
